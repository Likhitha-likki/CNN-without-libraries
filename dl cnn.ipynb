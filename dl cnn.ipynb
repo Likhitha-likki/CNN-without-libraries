{
 "cells": [
  {
   "cell_type": "code",
   "execution_count": 19,
   "id": "744c3081",
   "metadata": {},
   "outputs": [],
   "source": [
    "import keras"
   ]
  },
  {
   "cell_type": "code",
   "execution_count": 2,
   "id": "5c4b56ca",
   "metadata": {},
   "outputs": [],
   "source": [
    "from keras.datasets import mnist\n",
    "\n",
    "# Load MNIST dataset\n",
    "(train_images, train_labels), (test_images, test_labels) = mnist.load_data()\n",
    "\n",
    "# Process the data as needed for your application\n",
    "# ...\n",
    "import gzip\n"
   ]
  },
  {
   "cell_type": "code",
   "execution_count": 3,
   "id": "3eef0131",
   "metadata": {},
   "outputs": [],
   "source": [
    "(DATA_URL_TRAIN_DATA, DATA_URL_TRAIN_LABELS), (DATA_URL_TEST_DATA, DATA_URL_TEST_LABELS) = mnist.load_data()"
   ]
  },
  {
   "cell_type": "code",
   "execution_count": 4,
   "id": "05106d1b",
   "metadata": {},
   "outputs": [],
   "source": [
    "\n",
    "DATA_FILE_TRAIN_DATA   = 'train_data.gz'\n",
    "DATA_FILE_TRAIN_LABELS = 'train_labels.gz'\n",
    "DATA_FILE_TEST_DATA    = 'test_data.gz'\n",
    "DATA_FILE_TEST_LABELS  = 'test_labels.gz'"
   ]
  },
  {
   "cell_type": "code",
   "execution_count": 5,
   "id": "e83afd50",
   "metadata": {},
   "outputs": [
    {
     "data": {
      "text/plain": [
       "'train_data.gz'"
      ]
     },
     "execution_count": 5,
     "metadata": {},
     "output_type": "execute_result"
    }
   ],
   "source": [
    "DATA_FILE_TRAIN_DATA"
   ]
  },
  {
   "cell_type": "code",
   "execution_count": 6,
   "id": "db4ac772",
   "metadata": {},
   "outputs": [
    {
     "data": {
      "text/plain": [
       "array([[[0, 0, 0, ..., 0, 0, 0],\n",
       "        [0, 0, 0, ..., 0, 0, 0],\n",
       "        [0, 0, 0, ..., 0, 0, 0],\n",
       "        ...,\n",
       "        [0, 0, 0, ..., 0, 0, 0],\n",
       "        [0, 0, 0, ..., 0, 0, 0],\n",
       "        [0, 0, 0, ..., 0, 0, 0]],\n",
       "\n",
       "       [[0, 0, 0, ..., 0, 0, 0],\n",
       "        [0, 0, 0, ..., 0, 0, 0],\n",
       "        [0, 0, 0, ..., 0, 0, 0],\n",
       "        ...,\n",
       "        [0, 0, 0, ..., 0, 0, 0],\n",
       "        [0, 0, 0, ..., 0, 0, 0],\n",
       "        [0, 0, 0, ..., 0, 0, 0]],\n",
       "\n",
       "       [[0, 0, 0, ..., 0, 0, 0],\n",
       "        [0, 0, 0, ..., 0, 0, 0],\n",
       "        [0, 0, 0, ..., 0, 0, 0],\n",
       "        ...,\n",
       "        [0, 0, 0, ..., 0, 0, 0],\n",
       "        [0, 0, 0, ..., 0, 0, 0],\n",
       "        [0, 0, 0, ..., 0, 0, 0]],\n",
       "\n",
       "       ...,\n",
       "\n",
       "       [[0, 0, 0, ..., 0, 0, 0],\n",
       "        [0, 0, 0, ..., 0, 0, 0],\n",
       "        [0, 0, 0, ..., 0, 0, 0],\n",
       "        ...,\n",
       "        [0, 0, 0, ..., 0, 0, 0],\n",
       "        [0, 0, 0, ..., 0, 0, 0],\n",
       "        [0, 0, 0, ..., 0, 0, 0]],\n",
       "\n",
       "       [[0, 0, 0, ..., 0, 0, 0],\n",
       "        [0, 0, 0, ..., 0, 0, 0],\n",
       "        [0, 0, 0, ..., 0, 0, 0],\n",
       "        ...,\n",
       "        [0, 0, 0, ..., 0, 0, 0],\n",
       "        [0, 0, 0, ..., 0, 0, 0],\n",
       "        [0, 0, 0, ..., 0, 0, 0]],\n",
       "\n",
       "       [[0, 0, 0, ..., 0, 0, 0],\n",
       "        [0, 0, 0, ..., 0, 0, 0],\n",
       "        [0, 0, 0, ..., 0, 0, 0],\n",
       "        ...,\n",
       "        [0, 0, 0, ..., 0, 0, 0],\n",
       "        [0, 0, 0, ..., 0, 0, 0],\n",
       "        [0, 0, 0, ..., 0, 0, 0]]], dtype=uint8)"
      ]
     },
     "execution_count": 6,
     "metadata": {},
     "output_type": "execute_result"
    }
   ],
   "source": [
    "DATA_URL_TRAIN_DATA"
   ]
  },
  {
   "cell_type": "code",
   "execution_count": 7,
   "id": "813eff67",
   "metadata": {},
   "outputs": [],
   "source": [
    "# data\n",
    "DATA_NUM_TRAIN         = 60000\n",
    "DATA_NUM_TEST          = 10000\n",
    "DATA_CHANNELS          = 1\n",
    "DATA_ROWS              = 28\n",
    "DATA_COLS              = 28\n",
    "DATA_CLASSES           = 10"
   ]
  },
  {
   "cell_type": "code",
   "execution_count": 8,
   "id": "1525aca5",
   "metadata": {},
   "outputs": [],
   "source": [
    "# display\n",
    "DISPLAY_ROWS   = 8\n",
    "DISPLAY_COLS   = 4\n",
    "DISPLAY_COL_IN = 10\n",
    "DISPLAY_ROW_IN = 25\n",
    "DISPLAY_NUM    = DISPLAY_ROWS*DISPLAY_COLS\n"
   ]
  },
  {
   "cell_type": "code",
   "execution_count": 9,
   "id": "60680403",
   "metadata": {},
   "outputs": [],
   "source": [
    "import numpy as np\n",
    "import matplotlib.pyplot as plt"
   ]
  },
  {
   "cell_type": "code",
   "execution_count": 10,
   "id": "40705022",
   "metadata": {},
   "outputs": [],
   "source": [
    "# training data\n",
    "# unzip the file, skip the header, read the rest into a buffer and format to NCHW\n",
    "file_train_data   = gzip.open(DATA_FILE_TRAIN_DATA, 'r')\n",
    "file_train_data.read(16)\n",
    "buffer_train_data = file_train_data.read(DATA_NUM_TRAIN*DATA_ROWS*DATA_COLS)\n",
    "train_data        = np.frombuffer(buffer_train_data, dtype=np.uint8).astype(np.float32)\n",
    "train_data        = train_data.reshape(DATA_NUM_TRAIN, 1, DATA_ROWS, DATA_COLS)"
   ]
  },
  {
   "cell_type": "code",
   "execution_count": 11,
   "id": "05ce18b9",
   "metadata": {},
   "outputs": [
    {
     "data": {
      "text/plain": [
       "<gzip _io.BufferedReader name='train_data.gz' 0x159b00fd460>"
      ]
     },
     "execution_count": 11,
     "metadata": {},
     "output_type": "execute_result"
    }
   ],
   "source": [
    "file_train_data"
   ]
  },
  {
   "cell_type": "code",
   "execution_count": 12,
   "id": "744f9b41",
   "metadata": {},
   "outputs": [],
   "source": [
    "# training labels\n",
    "# unzip the file, skip the header, read the rest into a buffer and format to a vector\n",
    "file_train_labels   = gzip.open(DATA_FILE_TRAIN_LABELS, 'r')\n",
    "file_train_labels.read(8)\n",
    "buffer_train_labels = file_train_labels.read(DATA_NUM_TRAIN)\n",
    "train_labels        = np.frombuffer(buffer_train_labels, dtype=np.uint8).astype(np.int32)"
   ]
  },
  {
   "cell_type": "code",
   "execution_count": 13,
   "id": "ed28cee5",
   "metadata": {},
   "outputs": [],
   "source": [
    "# testing data\n",
    "# unzip the file, skip the header, read the rest into a buffer and format to NCHW\n",
    "file_test_data   = gzip.open(DATA_FILE_TEST_DATA, 'r')\n",
    "file_test_data.read(16)\n",
    "buffer_test_data = file_test_data.read(DATA_NUM_TEST*DATA_ROWS*DATA_COLS)\n",
    "test_data        = np.frombuffer(buffer_test_data, dtype=np.uint8).astype(np.float32)\n",
    "test_data        = test_data.reshape(DATA_NUM_TEST, 1, DATA_ROWS, DATA_COLS)"
   ]
  },
  {
   "cell_type": "code",
   "execution_count": 14,
   "id": "fbfcd3dd",
   "metadata": {},
   "outputs": [
    {
     "data": {
      "image/png": "[encoded data removed]",
      "text/plain": [
       "<Figure size 720x1800 with 32 Axes>"
      ]
     },
     "metadata": {
      "needs_background": "light"
     },
     "output_type": "display_data"
    }
   ],
   "source": [
    "# testing labels\n",
    "# unzip the file, skip the header, read the rest into a buffer and format to a vector\n",
    "file_test_labels   = gzip.open(DATA_FILE_TEST_LABELS, 'r')\n",
    "file_test_labels.read(8)\n",
    "buffer_test_labels = file_test_labels.read(DATA_NUM_TEST)\n",
    "test_labels        = np.frombuffer(buffer_test_labels, dtype=np.uint8).astype(np.int32)\n",
    "fig = plt.figure(figsize=(DISPLAY_COL_IN, DISPLAY_ROW_IN))\n",
    "ax  = []\n",
    "for i in range(DISPLAY_NUM):\n",
    "    img = test_data[i, :, :, :].reshape((DATA_ROWS, DATA_COLS))\n",
    "    ax.append(fig.add_subplot(DISPLAY_ROWS, DISPLAY_COLS, i + 1))\n",
    "    ax[-1].set_title('True: ' + str(test_labels[i]) + ' xNN: ' + str(test_labels[i]))\n",
    "    plt.imshow(img, cmap='Greys')\n",
    "plt.show()"
   ]
  },
  {
   "cell_type": "code",
   "execution_count": 15,
   "id": "b38fba32",
   "metadata": {},
   "outputs": [
    {
     "name": "stdout",
     "output_type": "stream",
     "text": [
      "(60000, 784)\n",
      "(10000, 784)\n",
      "(60000,) (10000,)\n"
     ]
    }
   ],
   "source": [
    "\n",
    "# Reshaping the training data\n",
    "train_data=train_data.reshape(60000,784)\n",
    "print(train_data.shape)\n",
    "#reshaping the testing data\n",
    "test_data=test_data.reshape(10000,784)\n",
    "print(test_data.shape)\n",
    "#dividing the train and test data by number of pixels\n",
    "train_data,test_data=train_data/255,test_data/255\n",
    "\n",
    "X_train,X_test=train_data,test_data\n",
    "Y_train,Y_test=train_labels,test_labels\n",
    "print(train_labels.shape,test_labels.shape)"
   ]
  },
  {
   "cell_type": "code",
   "execution_count": 16,
   "id": "e98ee1f9",
   "metadata": {},
   "outputs": [],
   "source": [
    "import copy"
   ]
  },
  {
   "cell_type": "code",
   "execution_count": 17,
   "id": "67ed3496",
   "metadata": {},
   "outputs": [],
   "source": [
    "class CNN:\n",
    "    kernals = {}\n",
    "    output_layer = {}\n",
    "    hyperParameter = {}\n",
    "#Initialize the parameters\n",
    "    def __init__(self, num_iterations, l_rate, stride, padding,\n",
    "                 kernel_dimensions, num_kernals, input_dimensions, len_outputs, incoming_channels, batch_size=1):\n",
    "        self.hyperParameter = dict(batch_size=batch_size, num_iterations=num_iterations, l_rate=l_rate, stride=stride,\n",
    "                                   padding=padding, kernel_dimensions=kernel_dimensions, num_kernals=num_kernals,\n",
    "                                   input_dimensions=input_dimensions, len_outputs=len_outputs, incoming_channels=incoming_channels)\n",
    "        temp_dim = input_dimensions - kernel_dimensions + 1\n",
    "        self.output_layer = {\n",
    "            'para': np.random.randn(len_outputs, num_kernals, temp_dim, temp_dim) / np.sqrt(\n",
    "                temp_dim ** 2 * num_kernals * len_outputs),\n",
    "            'bias': np.random.randn(len_outputs, 1) / np.sqrt(len_outputs)\n",
    "        }\n",
    "        for i in range(num_kernals):\n",
    "            self.kernals[i] = np.random.randn(incoming_channels, kernel_dimensions, kernel_dimensions) / np.sqrt(kernel_dimensions ** 2)\n",
    "# Activation function used in forward_propogation propogation\n",
    "    def __relu(self, Z, type='ReLU', deri=False):\n",
    "        # implement the activation function\n",
    "        if type == 'ReLU':\n",
    "            if deri == True:\n",
    "                return 1 * (Z > 0)\n",
    "            else:\n",
    "                return Z * (Z > 0)\n",
    "        elif type == 'Sigmoid':\n",
    "            if deri == True:\n",
    "                return 1 / (1 + np.exp(-Z)) * (1 - 1 / (1 + np.exp(-Z)))\n",
    "            else:\n",
    "                return 1 / (1 + np.exp(-Z))\n",
    "        elif type == 'tanh':\n",
    "            if deri == True:\n",
    "                return (math.exp(Z) - math.exp(-Z)) / (math.exp(Z) + math.exp(-Z))\n",
    "            else:\n",
    "                return 1 - (np.tanh(Z)) ** 2\n",
    "        else:\n",
    "            raise TypeError('Invalid type!')\n",
    "\n",
    "    def Softmax(self, z):\n",
    "        # Softmax function to calculate the probablity\n",
    "        return 1 / sum(np.exp(z)) * np.exp(z)\n",
    "\n",
    "    def cross_entropy(self, p, y):\n",
    "        # Cross Entropy to find the error loss\n",
    "        return -np.log(p[y])\n",
    "\n",
    "    def convolution_network(self, x, kernals):\n",
    "        #this method implements the convolution operation of a neural network given input data and a set of kernels. \n",
    "        #Each kernel is convolved with the input data, producing feature maps for each kernel. \n",
    "        #The result is a 3D array representing the output feature maps.\n",
    "        num_kernals = len(kernals)\n",
    "        feature_shape = x.shape\n",
    "        kernel_shape = kernals[0].shape\n",
    "        t_dim = feature_shape[1] - kernel_shape[1] + 1\n",
    "        result = np.zeros((num_kernals, t_dim, t_dim))\n",
    "        for i in range(num_kernals):\n",
    "            for j in range(t_dim):\n",
    "                for k in range(t_dim):\n",
    "                    result[i, j, k] = np.sum(np.multiply(kernals[i], x[:, j:j + kernel_shape[1], k:k + kernel_shape[2]]))\n",
    "        return result\n",
    "        \n",
    "    def forward_propogation(self, x, y):\n",
    "        #this method performs the forward propagation of the neural network, \n",
    "        #including the convolutional layer, activation function, and linear transformation to produce predicted probabilities.\n",
    "        #It returns a dictionary containing intermediate results for further use in training and evaluation.\n",
    "        input_dimensions = self.hyperParameter['input_dimensions']\n",
    "        X = x.reshape(self.hyperParameter['incoming_channels'], input_dimensions, input_dimensions)\n",
    "        K = self.kernals\n",
    "\n",
    "        temp_dim = self.hyperParameter['input_dimensions'] - self.hyperParameter['kernel_dimensions'] + 1\n",
    "        Z = self.convolution_network(X, K)\n",
    "        H = self.__relu(Z).reshape((temp_dim ** 2 * self.hyperParameter['num_kernals'], 1))\n",
    "        U = np.matmul(self.output_layer['para'].reshape((10, temp_dim ** 2 * self.hyperParameter['num_kernals'])), H) + \\\n",
    "            self.output_layer['bias']\n",
    "        predict_list = np.squeeze(self.Softmax(U))\n",
    "        dic = dict(Z=Z, H=H, U=U, f_X=predict_list.reshape((1, self.hyperParameter['len_outputs'])))\n",
    "        return dic\n",
    "\n",
    "    def back_propagation(self, x, y, f_result):\n",
    "        #this method implements the backpropagation algorithm to compute the gradients of the parameters with respect to the loss in a convolutional neural network.\n",
    "        E = np.array([0] * self.hyperParameter['len_outputs']).reshape((1, self.hyperParameter['len_outputs']))\n",
    "        E[0][y] = 1\n",
    "        dU = (-(E - f_result['f_X'])).reshape((self.hyperParameter['len_outputs'], 1))\n",
    "        db = copy.copy(dU)\n",
    "        delta = np.zeros((self.hyperParameter['num_kernals'], 26, 26))\n",
    "        for i in range(10):\n",
    "            delta += self.output_layer['para'][i, :] * np.squeeze(dU)[i]\n",
    "\n",
    "        dW = np.zeros((10, 5, 26, 26))\n",
    "        for i in range(10):\n",
    "            dW[i] = np.squeeze(dU)[i] * f_result['H'].reshape((5, 26, 26))\n",
    "        dK = {}\n",
    "        for i in range(5):\n",
    "            tmp_dic = {}\n",
    "            for j in range(1):\n",
    "                tmp_dic[j] = np.multiply(f_result['Z'][j], delta[j]).reshape((1, 26, 26))\n",
    "            dK[i] = self.convolution_network(x.reshape((1, 28, 28)), tmp_dic)\n",
    "\n",
    "        grad = dict(db=db, dW=dW, dK=dK)\n",
    "        return grad\n",
    "\n",
    "    def optimize(self, b_result, learning_rate):\n",
    "        # update the hyperparameters\n",
    "        self.output_layer['para'] -= learning_rate * b_result['dW']\n",
    "        self.output_layer['bias'] -= learning_rate * b_result['db']\n",
    "        for i in range(5):\n",
    "            self.kernals[i] -= learning_rate * b_result['dK'][i]\n",
    "\n",
    "    def loss(self, X_test, Y_test):\n",
    "        # implement the loss function of the training set\n",
    "        loss = 0\n",
    "        for n in range(len(X_test)):\n",
    "            if n % 1000 == 0:\n",
    "                print('LOSS: ', n)\n",
    "            y = Y_test[n]\n",
    "            x = X_test[n][:]\n",
    "            loss += self.forward_propogation(x, y)['error']\n",
    "        return loss\n",
    "\n",
    "    def train(self, X_train, Y_train):\n",
    "        learning_rate = self.hyperParameter['l_rate']\n",
    "        num_iterations = self.hyperParameter['num_iterations']\n",
    "        rand_indices = np.random.choice(len(X_train), num_iterations, replace=True)\n",
    "\n",
    "        def l_rate(base_rate, ite, num_iterations, schedule=False):\n",
    "            if schedule == True:\n",
    "                return base_rate * 10 ** (-np.floor(ite / num_iterations * 4))\n",
    "            else:\n",
    "                return base_rate\n",
    "\n",
    "        epochs = 1\n",
    "        loss_values = {}\n",
    "        test_values = {}\n",
    "\n",
    "        for i in rand_indices:\n",
    "            f_result = self.forward_propogation(X_train[i], Y_train[i])\n",
    "            b_result = self.back_propagation(X_train[i], Y_train[i], f_result)\n",
    "            self.optimize(b_result, l_rate(learning_rate, i, num_iterations, False))\n",
    "\n",
    "            if epochs % 100 == 0:\n",
    "                if epochs % 30000 == 0:\n",
    "                    loss = 'NA' \n",
    "                    test = self.testing(x_test, y_test)\n",
    "                    print('No of items={}'.format(epochs), 'loss = {}, test = {}'.format(loss, test))\n",
    "                    test_values[str(epochs)] = test\n",
    "                else:\n",
    "                    print('Trained items {}'.format(epochs))\n",
    "            epochs += 1\n",
    "\n",
    "        return loss_values, test_values\n",
    "\n",
    "    def testing(self, X_test, Y_test):\n",
    "        total_correct = 0\n",
    "        for n in range(len(X_test)):\n",
    "            y = Y_test[n]\n",
    "            x = X_test[n][:]\n",
    "            prediction = np.argmax(self.forward_propogation(x, y)['f_X'])\n",
    "            if (prediction == y):\n",
    "                total_correct += 1\n",
    "            if n % 1000 == 0:\n",
    "                print('Testing', n)\n",
    "        print('Accuarcy Test: ', total_correct / len(X_test))\n",
    "        return total_correct / np.float64(len(X_test))\n"
   ]
  },
  {
   "cell_type": "code",
   "execution_count": 18,
   "id": "2ee7f1d7",
   "metadata": {},
   "outputs": [
    {
     "name": "stdout",
     "output_type": "stream",
     "text": [
      "Trained items 100\n",
      "Trained items 200\n",
      "Trained items 300\n",
      "Trained items 400\n",
      "Trained items 500\n",
      "Trained items 600\n",
      "Trained items 700\n",
      "Trained items 800\n",
      "Trained items 900\n",
      "Trained items 1000\n"
     ]
    }
   ],
   "source": [
    "model = CNN(batch_size=1, num_iterations=1000, l_rate=0.01, stride=1,\n",
    "            padding=0, kernel_dimensions=3, num_kernals=5, input_dimensions=28, incoming_channels=1, len_outputs=10)\n",
    "lossGraph, testGraph = model.train(X_train, Y_train)"
   ]
  },
  {
   "cell_type": "code",
   "execution_count": 79,
   "id": "d4a97e7f",
   "metadata": {},
   "outputs": [
    {
     "name": "stdout",
     "output_type": "stream",
     "text": [
      "Testing 0\n",
      "Testing 1000\n",
      "Testing 2000\n",
      "Testing 3000\n",
      "Testing 4000\n",
      "Testing 5000\n",
      "Testing 6000\n",
      "Testing 7000\n",
      "Testing 8000\n",
      "Testing 9000\n",
      "Accuarcy Test:  0.8597\n"
     ]
    }
   ],
   "source": [
    "accuracy = model.testing(X_test, Y_test)"
   ]
  },
  {
   "cell_type": "code",
   "execution_count": null,
   "id": "4336a8f2",
   "metadata": {},
   "outputs": [],
   "source": []
  }
 ],
 "metadata": {
  "kernelspec": {
   "display_name": "Python 3 (ipykernel)",
   "language": "python",
   "name": "python3"
  },
  "language_info": {
   "codemirror_mode": {
    "name": "ipython",
    "version": 3
   },
   "file_extension": ".py",
   "mimetype": "text/x-python",
   "name": "python",
   "nbconvert_exporter": "python",
   "pygments_lexer": "ipython3",
   "version": "3.9.7"
  }
 },
 "nbformat": 4,
 "nbformat_minor": 5
}
